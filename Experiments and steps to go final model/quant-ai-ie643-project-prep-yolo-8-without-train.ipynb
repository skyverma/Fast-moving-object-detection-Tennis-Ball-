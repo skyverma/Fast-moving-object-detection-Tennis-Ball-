{
 "cells": [
  {
   "cell_type": "code",
   "execution_count": 1,
   "id": "25bfc162",
   "metadata": {
    "execution": {
     "iopub.execute_input": "2024-09-25T14:39:48.725786Z",
     "iopub.status.busy": "2024-09-25T14:39:48.725407Z",
     "iopub.status.idle": "2024-09-25T14:40:04.592149Z",
     "shell.execute_reply": "2024-09-25T14:40:04.590891Z"
    },
    "papermill": {
     "duration": 15.876529,
     "end_time": "2024-09-25T14:40:04.594392",
     "exception": false,
     "start_time": "2024-09-25T14:39:48.717863",
     "status": "completed"
    },
    "tags": []
   },
   "outputs": [
    {
     "name": "stdout",
     "output_type": "stream",
     "text": [
      "Note: you may need to restart the kernel to use updated packages.\n"
     ]
    }
   ],
   "source": [
    "pip install ultralytics > /dev/null 2>&1"
   ]
  },
  {
   "cell_type": "code",
   "execution_count": 2,
   "id": "838f30cf",
   "metadata": {
    "execution": {
     "iopub.execute_input": "2024-09-25T14:40:04.607175Z",
     "iopub.status.busy": "2024-09-25T14:40:04.606851Z",
     "iopub.status.idle": "2024-09-25T14:40:04.618436Z",
     "shell.execute_reply": "2024-09-25T14:40:04.617504Z"
    },
    "papermill": {
     "duration": 0.020065,
     "end_time": "2024-09-25T14:40:04.620244",
     "exception": false,
     "start_time": "2024-09-25T14:40:04.600179",
     "status": "completed"
    },
    "tags": []
   },
   "outputs": [
    {
     "name": "stdout",
     "output_type": "stream",
     "text": [
      "True\n"
     ]
    }
   ],
   "source": [
    "import os\n",
    "print(os.path.exists('/kaggle/input/input-video-1x/input_video.mp4'))\n"
   ]
  },
  {
   "cell_type": "code",
   "execution_count": 3,
   "id": "ae1dd76a",
   "metadata": {
    "execution": {
     "iopub.execute_input": "2024-09-25T14:40:04.632192Z",
     "iopub.status.busy": "2024-09-25T14:40:04.631926Z",
     "iopub.status.idle": "2024-09-25T14:40:09.435054Z",
     "shell.execute_reply": "2024-09-25T14:40:09.433983Z"
    },
    "papermill": {
     "duration": 4.811973,
     "end_time": "2024-09-25T14:40:09.437592",
     "exception": false,
     "start_time": "2024-09-25T14:40:04.625619",
     "status": "completed"
    },
    "tags": []
   },
   "outputs": [
    {
     "name": "stdout",
     "output_type": "stream",
     "text": [
      "Creating new Ultralytics Settings v0.0.6 file ✅ \n",
      "View Ultralytics Settings with 'yolo settings' or at '/root/.config/Ultralytics/settings.json'\n",
      "Update Settings with 'yolo settings key=value', i.e. 'yolo settings runs_dir=path/to/dir'. For help see https://docs.ultralytics.com/quickstart/#ultralytics-settings.\n"
     ]
    }
   ],
   "source": [
    "from ultralytics import YOLO \n",
    "\n",
    "# model = YOLO('yolov8x')\n",
    "\n",
    "# result = model.track('/kaggle/input/input-video-1x/input_video.mp4',conf=0.2, save=True,verbose=False)"
   ]
  },
  {
   "cell_type": "code",
   "execution_count": 4,
   "id": "4421ecbe",
   "metadata": {
    "execution": {
     "iopub.execute_input": "2024-09-25T14:40:09.451617Z",
     "iopub.status.busy": "2024-09-25T14:40:09.450924Z",
     "iopub.status.idle": "2024-09-25T14:40:09.455387Z",
     "shell.execute_reply": "2024-09-25T14:40:09.454452Z"
    },
    "papermill": {
     "duration": 0.013303,
     "end_time": "2024-09-25T14:40:09.457276",
     "exception": false,
     "start_time": "2024-09-25T14:40:09.443973",
     "status": "completed"
    },
    "tags": []
   },
   "outputs": [],
   "source": [
    "# from ultralytics import YOLO \n",
    "\n",
    "# model1 = YOLO('yolov8x')\n",
    "\n",
    "# result = model1.track('/kaggle/input/input-video-1x/input-video_CAf3w5J1.mp4',conf=0.2, save=True,verbose=False)"
   ]
  },
  {
   "cell_type": "code",
   "execution_count": 5,
   "id": "936e07ff",
   "metadata": {
    "execution": {
     "iopub.execute_input": "2024-09-25T14:40:09.469476Z",
     "iopub.status.busy": "2024-09-25T14:40:09.469167Z",
     "iopub.status.idle": "2024-09-25T14:40:09.472849Z",
     "shell.execute_reply": "2024-09-25T14:40:09.472041Z"
    },
    "papermill": {
     "duration": 0.011869,
     "end_time": "2024-09-25T14:40:09.474660",
     "exception": false,
     "start_time": "2024-09-25T14:40:09.462791",
     "status": "completed"
    },
    "tags": []
   },
   "outputs": [],
   "source": [
    "# from ultralytics import YOLO \n",
    "\n",
    "# model2 = YOLO('yolov8x')\n",
    "\n",
    "# result = model2.track('/kaggle/input/input-video-1x/input-video_jZGZVQAw.mp4',conf=0.2, save=True,verbose=False)"
   ]
  },
  {
   "cell_type": "code",
   "execution_count": 6,
   "id": "a3627d22",
   "metadata": {
    "execution": {
     "iopub.execute_input": "2024-09-25T14:40:09.486927Z",
     "iopub.status.busy": "2024-09-25T14:40:09.486629Z",
     "iopub.status.idle": "2024-09-25T14:43:43.512121Z",
     "shell.execute_reply": "2024-09-25T14:43:43.511153Z"
    },
    "papermill": {
     "duration": 214.034293,
     "end_time": "2024-09-25T14:43:43.514406",
     "exception": false,
     "start_time": "2024-09-25T14:40:09.480113",
     "status": "completed"
    },
    "tags": []
   },
   "outputs": [
    {
     "name": "stdout",
     "output_type": "stream",
     "text": [
      "Downloading https://github.com/ultralytics/assets/releases/download/v8.2.0/yolov8x.pt to 'yolov8x.pt'...\n"
     ]
    },
    {
     "name": "stderr",
     "output_type": "stream",
     "text": [
      "100%|██████████| 131M/131M [00:00<00:00, 424MB/s]\n"
     ]
    },
    {
     "name": "stdout",
     "output_type": "stream",
     "text": [
      "\u001b[31m\u001b[1mrequirements:\u001b[0m Ultralytics requirement ['lapx>=0.5.2'] not found, attempting AutoUpdate...\n",
      "Collecting lapx>=0.5.2\n",
      "  Downloading lapx-0.5.10.post1-cp310-cp310-manylinux_2_5_x86_64.manylinux1_x86_64.manylinux_2_17_x86_64.manylinux2014_x86_64.whl.metadata (6.1 kB)\n",
      "Requirement already satisfied: numpy>=1.21.6 in /opt/conda/lib/python3.10/site-packages (from lapx>=0.5.2) (1.26.4)\n",
      "Downloading lapx-0.5.10.post1-cp310-cp310-manylinux_2_5_x86_64.manylinux1_x86_64.manylinux_2_17_x86_64.manylinux2014_x86_64.whl (1.7 MB)\n",
      "\u001b[2K   \u001b[90m━━━━━━━━━━━━━━━━━━━━━━━━━━━━━━━━━━━━━━━━\u001b[0m \u001b[32m1.7/1.7 MB\u001b[0m \u001b[31m35.1 MB/s\u001b[0m eta \u001b[36m0:00:00\u001b[0m\n",
      "\u001b[?25hInstalling collected packages: lapx\n",
      "Successfully installed lapx-0.5.10.post1\n",
      "\n",
      "\u001b[31m\u001b[1mrequirements:\u001b[0m AutoUpdate success ✅ 12.5s, installed 1 package: ['lapx>=0.5.2']\n",
      "\u001b[31m\u001b[1mrequirements:\u001b[0m ⚠️ \u001b[1mRestart runtime or rerun command for updates to take effect\u001b[0m\n",
      "\n",
      "\n",
      "WARNING ⚠️ inference results will accumulate in RAM unless `stream=True` is passed, causing potential out-of-memory\n",
      "errors for large sources or long-running streams and videos. See https://docs.ultralytics.com/modes/predict/ for help.\n",
      "\n",
      "Example:\n",
      "    results = model(source=..., stream=True)  # generator of Results objects\n",
      "    for r in results:\n",
      "        boxes = r.boxes  # Boxes object for bbox outputs\n",
      "        masks = r.masks  # Masks object for segment masks outputs\n",
      "        probs = r.probs  # Class probabilities for classification outputs\n",
      "\n",
      "Results saved to \u001b[1mruns/detect/track\u001b[0m\n",
      "\n",
      "WARNING ⚠️ inference results will accumulate in RAM unless `stream=True` is passed, causing potential out-of-memory\n",
      "errors for large sources or long-running streams and videos. See https://docs.ultralytics.com/modes/predict/ for help.\n",
      "\n",
      "Example:\n",
      "    results = model(source=..., stream=True)  # generator of Results objects\n",
      "    for r in results:\n",
      "        boxes = r.boxes  # Boxes object for bbox outputs\n",
      "        masks = r.masks  # Masks object for segment masks outputs\n",
      "        probs = r.probs  # Class probabilities for classification outputs\n",
      "\n",
      "Results saved to \u001b[1mruns/detect/track2\u001b[0m\n",
      "\n",
      "WARNING ⚠️ inference results will accumulate in RAM unless `stream=True` is passed, causing potential out-of-memory\n",
      "errors for large sources or long-running streams and videos. See https://docs.ultralytics.com/modes/predict/ for help.\n",
      "\n",
      "Example:\n",
      "    results = model(source=..., stream=True)  # generator of Results objects\n",
      "    for r in results:\n",
      "        boxes = r.boxes  # Boxes object for bbox outputs\n",
      "        masks = r.masks  # Masks object for segment masks outputs\n",
      "        probs = r.probs  # Class probabilities for classification outputs\n",
      "\n",
      "Results saved to \u001b[1mruns/detect/track3\u001b[0m\n",
      "\n",
      "WARNING ⚠️ inference results will accumulate in RAM unless `stream=True` is passed, causing potential out-of-memory\n",
      "errors for large sources or long-running streams and videos. See https://docs.ultralytics.com/modes/predict/ for help.\n",
      "\n",
      "Example:\n",
      "    results = model(source=..., stream=True)  # generator of Results objects\n",
      "    for r in results:\n",
      "        boxes = r.boxes  # Boxes object for bbox outputs\n",
      "        masks = r.masks  # Masks object for segment masks outputs\n",
      "        probs = r.probs  # Class probabilities for classification outputs\n",
      "\n",
      "Results saved to \u001b[1mruns/detect/track4\u001b[0m\n",
      "\n",
      "WARNING ⚠️ inference results will accumulate in RAM unless `stream=True` is passed, causing potential out-of-memory\n",
      "errors for large sources or long-running streams and videos. See https://docs.ultralytics.com/modes/predict/ for help.\n",
      "\n",
      "Example:\n",
      "    results = model(source=..., stream=True)  # generator of Results objects\n",
      "    for r in results:\n",
      "        boxes = r.boxes  # Boxes object for bbox outputs\n",
      "        masks = r.masks  # Masks object for segment masks outputs\n",
      "        probs = r.probs  # Class probabilities for classification outputs\n",
      "\n",
      "Results saved to \u001b[1mruns/detect/track5\u001b[0m\n",
      "\n",
      "WARNING ⚠️ inference results will accumulate in RAM unless `stream=True` is passed, causing potential out-of-memory\n",
      "errors for large sources or long-running streams and videos. See https://docs.ultralytics.com/modes/predict/ for help.\n",
      "\n",
      "Example:\n",
      "    results = model(source=..., stream=True)  # generator of Results objects\n",
      "    for r in results:\n",
      "        boxes = r.boxes  # Boxes object for bbox outputs\n",
      "        masks = r.masks  # Masks object for segment masks outputs\n",
      "        probs = r.probs  # Class probabilities for classification outputs\n",
      "\n",
      "Results saved to \u001b[1mruns/detect/track6\u001b[0m\n"
     ]
    }
   ],
   "source": [
    "video_paths = [\n",
    "    '/kaggle/input/different-speed-of-tennis-data-set/0.25_x_input_video.mp4',  # 0.25x speed video\n",
    "    '/kaggle/input/different-speed-of-tennis-data-set/0.50_x_input_video.mp4',     # 0.5x speed video\n",
    "    '/kaggle/input/different-speed-of-tennis-data-set/1_x_input_video.mp4', #1x speed Video\n",
    "    '/kaggle/input/different-speed-of-tennis-data-set/1.5_x_input_video.mp4', #1.5x Speed Video\n",
    "    '/kaggle/input/different-speed-of-tennis-data-set/2_x_input_video.mp4',      # 2x speed video\n",
    "    '/kaggle/input/different-speed-of-tennis-data-set/4_x_input_video.mp4'    # 4x speed Video\n",
    "]    \n",
    "for video in video_paths:\n",
    "    model = YOLO('yolov8x')\n",
    "\n",
    "    result = model.track(video,conf=0.2, save=True,verbose=False)"
   ]
  },
  {
   "cell_type": "code",
   "execution_count": 7,
   "id": "61d7354d",
   "metadata": {
    "execution": {
     "iopub.execute_input": "2024-09-25T14:43:43.531495Z",
     "iopub.status.busy": "2024-09-25T14:43:43.531032Z",
     "iopub.status.idle": "2024-09-25T14:45:04.394492Z",
     "shell.execute_reply": "2024-09-25T14:45:04.393338Z"
    },
    "papermill": {
     "duration": 80.881914,
     "end_time": "2024-09-25T14:45:04.404185",
     "exception": false,
     "start_time": "2024-09-25T14:43:43.522271",
     "status": "completed"
    },
    "tags": []
   },
   "outputs": [
    {
     "name": "stdout",
     "output_type": "stream",
     "text": [
      "Sports ball detection counts by video format:\n",
      "0.25_x_input_video.mp4: 111 detections\n",
      "0.50_x_input_video.mp4: 57 detections\n",
      "1_x_input_video.mp4: 35 detections\n",
      "1.5_x_input_video.mp4: 17 detections\n",
      "2_x_input_video.mp4: 18 detections\n",
      "4_x_input_video.mp4: 4 detections\n"
     ]
    }
   ],
   "source": [
    "import cv2\n",
    "from ultralytics import YOLO\n",
    "\n",
    "# Load YOLOv8 model\n",
    "model = YOLO('yolov8x')\n",
    "\n",
    "# Function to process video and count 'sports ball' detections\n",
    "def count_sports_ball_detections(video_paths, conf=0.2):\n",
    "    ball_detection_counts = {}\n",
    "\n",
    "    # Iterate over each video path\n",
    "    for video_path in video_paths:\n",
    "        cap = cv2.VideoCapture(video_path)\n",
    "        ball_count = 0  # Counter for sports ball detections\n",
    "        \n",
    "        # Process the video frame by frame\n",
    "        while cap.isOpened():\n",
    "            ret, frame = cap.read()\n",
    "            if not ret:\n",
    "                break\n",
    "            \n",
    "            # Detect objects in the frame using YOLO\n",
    "            results = model(frame, conf=conf,verbose=False) # verbose used to dont print results \n",
    "            \n",
    "            # Iterate over detected objects and count sports balls\n",
    "            for result in results:\n",
    "                for obj in result.boxes:\n",
    "                    # Check if the label is 'sports ball'\n",
    "                    if 'sports ball' in result.names[int(obj.cls)]:\n",
    "                        ball_count += 1\n",
    "        \n",
    "        # Store the count for this video\n",
    "        video_name = video_path.split('/')[-1]  # Extract video file name\n",
    "        ball_detection_counts[video_name] = ball_count\n",
    "        \n",
    "        # Release the video capture for this file\n",
    "        cap.release()\n",
    "    \n",
    "    return ball_detection_counts\n",
    "\n",
    "\n",
    "\n",
    "\n",
    "\n",
    "# List of video paths and speed factors\n",
    "video_paths = [\n",
    "    '/kaggle/input/different-speed-of-tennis-data-set/0.25_x_input_video.mp4',  # 0.25x speed video\n",
    "    '/kaggle/input/different-speed-of-tennis-data-set/0.50_x_input_video.mp4',     # 0.5x speed video\n",
    "    '/kaggle/input/different-speed-of-tennis-data-set/1_x_input_video.mp4', #1x speed Video\n",
    "    '/kaggle/input/different-speed-of-tennis-data-set/1.5_x_input_video.mp4', #1.5x Speed Video\n",
    "    '/kaggle/input/different-speed-of-tennis-data-set/2_x_input_video.mp4',      # 2x speed video\n",
    "    '/kaggle/input/different-speed-of-tennis-data-set/4_x_input_video.mp4'    # 4x speed Video\n",
    "]    \n",
    "\n",
    "# Count 'sports ball' detections in each video\n",
    "ball_counts = count_sports_ball_detections(video_paths)\n",
    "\n",
    "# Output the detection counts\n",
    "print(\"Sports ball detection counts by video format:\")\n",
    "for video, count in ball_counts.items():\n",
    "    print(f\"{video}: {count} detections\")\n"
   ]
  },
  {
   "cell_type": "code",
   "execution_count": 8,
   "id": "15343aa1",
   "metadata": {
    "execution": {
     "iopub.execute_input": "2024-09-25T14:45:04.420655Z",
     "iopub.status.busy": "2024-09-25T14:45:04.420324Z",
     "iopub.status.idle": "2024-09-25T14:45:04.425216Z",
     "shell.execute_reply": "2024-09-25T14:45:04.424262Z"
    },
    "papermill": {
     "duration": 0.015652,
     "end_time": "2024-09-25T14:45:04.427373",
     "exception": false,
     "start_time": "2024-09-25T14:45:04.411721",
     "status": "completed"
    },
    "tags": []
   },
   "outputs": [
    {
     "name": "stdout",
     "output_type": "stream",
     "text": [
      "Sports ball detection counts by video format:\n",
      "0.25_x_input_video.mp4: 111 detections\n",
      "0.50_x_input_video.mp4: 57 detections\n",
      "1_x_input_video.mp4: 35 detections\n",
      "1.5_x_input_video.mp4: 17 detections\n",
      "2_x_input_video.mp4: 18 detections\n",
      "4_x_input_video.mp4: 4 detections\n"
     ]
    }
   ],
   "source": [
    "\n",
    "\n",
    "# Output the detection counts\n",
    "print(\"Sports ball detection counts by video format:\")\n",
    "for video, count in ball_counts.items():\n",
    "    print(f\"{video}: {count} detections\")"
   ]
  },
  {
   "cell_type": "code",
   "execution_count": 9,
   "id": "3c005b57",
   "metadata": {
    "execution": {
     "iopub.execute_input": "2024-09-25T14:45:04.443806Z",
     "iopub.status.busy": "2024-09-25T14:45:04.443527Z",
     "iopub.status.idle": "2024-09-25T14:45:06.316287Z",
     "shell.execute_reply": "2024-09-25T14:45:06.315357Z"
    },
    "papermill": {
     "duration": 1.883428,
     "end_time": "2024-09-25T14:45:06.318474",
     "exception": false,
     "start_time": "2024-09-25T14:45:04.435046",
     "status": "completed"
    },
    "tags": []
   },
   "outputs": [
    {
     "name": "stdout",
     "output_type": "stream",
     "text": [
      "Sports Ball Detection Counts by Video Format:\n",
      "╒════════════════════════╤══════════════════════════╕\n",
      "│ Video Format           │   Sports Ball Detections │\n",
      "╞════════════════════════╪══════════════════════════╡\n",
      "│ 0.25_x_input_video.mp4 │                      111 │\n",
      "├────────────────────────┼──────────────────────────┤\n",
      "│ 0.50_x_input_video.mp4 │                       57 │\n",
      "├────────────────────────┼──────────────────────────┤\n",
      "│ 1_x_input_video.mp4    │                       35 │\n",
      "├────────────────────────┼──────────────────────────┤\n",
      "│ 1.5_x_input_video.mp4  │                       17 │\n",
      "├────────────────────────┼──────────────────────────┤\n",
      "│ 2_x_input_video.mp4    │                       18 │\n",
      "├────────────────────────┼──────────────────────────┤\n",
      "│ 4_x_input_video.mp4    │                        4 │\n",
      "╘════════════════════════╧══════════════════════════╛\n"
     ]
    }
   ],
   "source": [
    "import pandas as pd\n",
    "import seaborn as sns\n",
    "import matplotlib.pyplot as plt\n",
    "from tabulate import tabulate\n",
    "\n",
    "# Detection counts data\n",
    "ball_counts = {\n",
    "    \"0.25_x_input_video.mp4\": 111,\n",
    "    \"0.50_x_input_video.mp4\": 57,\n",
    "    \"1_x_input_video.mp4\": 35,\n",
    "    \"1.5_x_input_video.mp4\": 17,\n",
    "    \"2_x_input_video.mp4\": 18,\n",
    "    \"4_x_input_video.mp4\": 4\n",
    "}\n",
    "\n",
    "# Convert data to DataFrame for pretty table\n",
    "df = pd.DataFrame(list(ball_counts.items()), columns=['Video Format', 'Sports Ball Detections'])\n",
    "\n",
    "# Pretty Table using tabulate\n",
    "table = tabulate(df, headers='keys', tablefmt='fancy_grid', showindex=False)\n",
    "print(\"Sports Ball Detection Counts by Video Format:\")\n",
    "print(table)\n"
   ]
  },
  {
   "cell_type": "code",
   "execution_count": 10,
   "id": "035e6d19",
   "metadata": {
    "execution": {
     "iopub.execute_input": "2024-09-25T14:45:06.335128Z",
     "iopub.status.busy": "2024-09-25T14:45:06.334716Z",
     "iopub.status.idle": "2024-09-25T14:45:06.891646Z",
     "shell.execute_reply": "2024-09-25T14:45:06.890618Z"
    },
    "papermill": {
     "duration": 0.567795,
     "end_time": "2024-09-25T14:45:06.893999",
     "exception": false,
     "start_time": "2024-09-25T14:45:06.326204",
     "status": "completed"
    },
    "tags": []
   },
   "outputs": [
    {
     "data": {
      "image/png": "[encoded data removed]",
      "text/plain": [
       "<Figure size 1000x600 with 1 Axes>"
      ]
     },
     "metadata": {},
     "output_type": "display_data"
    }
   ],
   "source": [
    "\n",
    "# Plot to Visualise the result \n",
    "sns.set(style=\"whitegrid\")  # Clean white grid background\n",
    "plt.figure(figsize=(10, 6))\n",
    "\n",
    "# Create a more vibrant bar plot\n",
    "colors = sns.color_palette(\"Spectral\", len(df))  # Use a vibrant color palette\n",
    "ax = sns.barplot(x='Video Format', y='Sports Ball Detections', data=df, palette=colors)\n",
    "\n",
    "# Add titles and labels\n",
    "plt.title('Sports Ball Detections by Video Format', fontsize=20, fontweight='bold')\n",
    "plt.xlabel('Video Format', fontsize=14)\n",
    "plt.ylabel('Number of Detections', fontsize=14)\n",
    "\n",
    "# Rotate x-axis labels for better readability\n",
    "plt.xticks(rotation=45, ha='right', fontsize=12)\n",
    "\n",
    "# Add value labels on top of bars\n",
    "for p in ax.patches:\n",
    "    ax.annotate(f'{int(p.get_height())}', (p.get_x() + p.get_width() / 2, p.get_height()),\n",
    "                ha='center', va='bottom', fontsize=12, fontweight='bold', color='black')\n",
    "\n",
    "# Show plot with tighter layout\n",
    "plt.tight_layout()\n",
    "plt.show()\n"
   ]
  },
  {
   "cell_type": "code",
   "execution_count": 11,
   "id": "c8e16bd6",
   "metadata": {
    "execution": {
     "iopub.execute_input": "2024-09-25T14:45:06.913427Z",
     "iopub.status.busy": "2024-09-25T14:45:06.913020Z",
     "iopub.status.idle": "2024-09-25T14:48:56.460905Z",
     "shell.execute_reply": "2024-09-25T14:48:56.459938Z"
    },
    "papermill": {
     "duration": 229.566988,
     "end_time": "2024-09-25T14:48:56.470349",
     "exception": false,
     "start_time": "2024-09-25T14:45:06.903361",
     "status": "completed"
    },
    "tags": []
   },
   "outputs": [
    {
     "name": "stdout",
     "output_type": "stream",
     "text": [
      "\n",
      "WARNING ⚠️ inference results will accumulate in RAM unless `stream=True` is passed, causing potential out-of-memory\n",
      "errors for large sources or long-running streams and videos. See https://docs.ultralytics.com/modes/predict/ for help.\n",
      "\n",
      "Example:\n",
      "    results = model(source=..., stream=True)  # generator of Results objects\n",
      "    for r in results:\n",
      "        boxes = r.boxes  # Boxes object for bbox outputs\n",
      "        masks = r.masks  # Masks object for segment masks outputs\n",
      "        probs = r.probs  # Class probabilities for classification outputs\n",
      "\n",
      "Results saved to \u001b[1mruns/detect/track7\u001b[0m\n"
     ]
    }
   ],
   "source": [
    "model = YOLO('yolov8x')\n",
    "\n",
    "result = model.track('/kaggle/input/input-video-1x/Federer vs Nadal .mp4',conf=0.2, save=True,verbose=False)"
   ]
  },
  {
   "cell_type": "code",
   "execution_count": 12,
   "id": "5a8fc8cc",
   "metadata": {
    "execution": {
     "iopub.execute_input": "2024-09-25T14:48:56.489738Z",
     "iopub.status.busy": "2024-09-25T14:48:56.489303Z",
     "iopub.status.idle": "2024-09-25T14:50:58.774127Z",
     "shell.execute_reply": "2024-09-25T14:50:58.773168Z"
    },
    "papermill": {
     "duration": 122.305572,
     "end_time": "2024-09-25T14:50:58.785049",
     "exception": false,
     "start_time": "2024-09-25T14:48:56.479477",
     "status": "completed"
    },
    "tags": []
   },
   "outputs": [
    {
     "name": "stdout",
     "output_type": "stream",
     "text": [
      "Sports ball detection counts by video format:\n",
      "Federer vs Nadal .mp4: 797 detections\n"
     ]
    }
   ],
   "source": [
    "# Load YOLOv8 model\n",
    "model = YOLO('yolov8x')\n",
    "\n",
    "# Function to process video and count 'sports ball' detections\n",
    "def count_sports_ball_detections(video_paths, conf=0.2):\n",
    "    ball_detection_counts = {}\n",
    "\n",
    "    # Iterate over each video path\n",
    "    for video_path in video_paths:\n",
    "        cap = cv2.VideoCapture(video_path)\n",
    "        ball_count = 0  # Counter for sports ball detections\n",
    "        \n",
    "        # Process the video frame by frame\n",
    "        while cap.isOpened():\n",
    "            ret, frame = cap.read()\n",
    "            if not ret:\n",
    "                break\n",
    "            \n",
    "            # Detect objects in the frame using YOLO\n",
    "            results = model(frame, conf=conf,verbose=False)\n",
    "            \n",
    "            # Iterate over detected objects and count sports balls\n",
    "            for result in results:\n",
    "                for obj in result.boxes:\n",
    "                    # Check if the label is 'sports ball'\n",
    "                    if 'sports ball' in result.names[int(obj.cls)]:\n",
    "                        ball_count += 1\n",
    "        \n",
    "        # Store the count for this video\n",
    "        video_name = video_path.split('/')[-1]  # Extract video file name\n",
    "        ball_detection_counts[video_name] = ball_count\n",
    "        \n",
    "        # Release the video capture for this file\n",
    "        cap.release()\n",
    "    \n",
    "    return ball_detection_counts\n",
    "\n",
    "\n",
    "\n",
    "\n",
    "\n",
    "# List of video paths and speed factors\n",
    "video_paths = ['/kaggle/input/input-video-1x/Federer vs Nadal .mp4',\n",
    "#                '/kaggle/input/different-speed-of-tennis-data-set/4_x_input_video.mp4'\n",
    "   \n",
    "]\n",
    "\n",
    "# Count 'sports ball' detections in each video\n",
    "ball_counts = count_sports_ball_detections(video_paths)\n",
    "\n",
    "# Output the detection counts\n",
    "print(\"Sports ball detection counts by video format:\")\n",
    "for video, count in ball_counts.items():\n",
    "    print(f\"{video}: {count} detections\")"
   ]
  },
  {
   "cell_type": "code",
   "execution_count": null,
   "id": "09bd7a53",
   "metadata": {
    "papermill": {
     "duration": 0.0089,
     "end_time": "2024-09-25T14:50:58.803225",
     "exception": false,
     "start_time": "2024-09-25T14:50:58.794325",
     "status": "completed"
    },
    "tags": []
   },
   "outputs": [],
   "source": []
  },
  {
   "cell_type": "code",
   "execution_count": null,
   "id": "4b3fe619",
   "metadata": {
    "papermill": {
     "duration": 0.008729,
     "end_time": "2024-09-25T14:50:58.821258",
     "exception": false,
     "start_time": "2024-09-25T14:50:58.812529",
     "status": "completed"
    },
    "tags": []
   },
   "outputs": [],
   "source": []
  },
  {
   "cell_type": "code",
   "execution_count": null,
   "id": "0b0c09a5",
   "metadata": {
    "papermill": {
     "duration": 0.008613,
     "end_time": "2024-09-25T14:50:58.839022",
     "exception": false,
     "start_time": "2024-09-25T14:50:58.830409",
     "status": "completed"
    },
    "tags": []
   },
   "outputs": [],
   "source": []
  },
  {
   "cell_type": "code",
   "execution_count": null,
   "id": "483f582a",
   "metadata": {
    "papermill": {
     "duration": 0.008924,
     "end_time": "2024-09-25T14:50:58.856968",
     "exception": false,
     "start_time": "2024-09-25T14:50:58.848044",
     "status": "completed"
    },
    "tags": []
   },
   "outputs": [],
   "source": []
  },
  {
   "cell_type": "code",
   "execution_count": null,
   "id": "48c3b822",
   "metadata": {
    "papermill": {
     "duration": 0.009079,
     "end_time": "2024-09-25T14:50:58.874957",
     "exception": false,
     "start_time": "2024-09-25T14:50:58.865878",
     "status": "completed"
    },
    "tags": []
   },
   "outputs": [],
   "source": []
  },
  {
   "cell_type": "code",
   "execution_count": null,
   "id": "211ee5a3",
   "metadata": {
    "papermill": {
     "duration": 0.008718,
     "end_time": "2024-09-25T14:50:58.892502",
     "exception": false,
     "start_time": "2024-09-25T14:50:58.883784",
     "status": "completed"
    },
    "tags": []
   },
   "outputs": [],
   "source": []
  },
  {
   "cell_type": "code",
   "execution_count": null,
   "id": "7c9982b2",
   "metadata": {
    "papermill": {
     "duration": 0.008633,
     "end_time": "2024-09-25T14:50:58.910174",
     "exception": false,
     "start_time": "2024-09-25T14:50:58.901541",
     "status": "completed"
    },
    "tags": []
   },
   "outputs": [],
   "source": []
  },
  {
   "cell_type": "code",
   "execution_count": null,
   "id": "812a4ad2",
   "metadata": {
    "papermill": {
     "duration": 0.008632,
     "end_time": "2024-09-25T14:50:58.927904",
     "exception": false,
     "start_time": "2024-09-25T14:50:58.919272",
     "status": "completed"
    },
    "tags": []
   },
   "outputs": [],
   "source": []
  }
 ],
 "metadata": {
  "kaggle": {
   "accelerator": "nvidiaTeslaT4",
   "dataSources": [
    {
     "datasetId": 5753464,
     "sourceId": 9465017,
     "sourceType": "datasetVersion"
    },
    {
     "datasetId": 5754936,
     "sourceId": 9465036,
     "sourceType": "datasetVersion"
    }
   ],
   "dockerImageVersionId": 30761,
   "isGpuEnabled": true,
   "isInternetEnabled": true,
   "language": "python",
   "sourceType": "notebook"
  },
  "kernelspec": {
   "display_name": "Python 3",
   "language": "python",
   "name": "python3"
  },
  "language_info": {
   "codemirror_mode": {
    "name": "ipython",
    "version": 3
   },
   "file_extension": ".py",
   "mimetype": "text/x-python",
   "name": "python",
   "nbconvert_exporter": "python",
   "pygments_lexer": "ipython3",
   "version": "3.10.14"
  },
  "papermill": {
   "default_parameters": {},
   "duration": 676.093216,
   "end_time": "2024-09-25T14:51:01.813708",
   "environment_variables": {},
   "exception": null,
   "input_path": "__notebook__.ipynb",
   "output_path": "__notebook__.ipynb",
   "parameters": {},
   "start_time": "2024-09-25T14:39:45.720492",
   "version": "2.6.0"
  }
 },
 "nbformat": 4,
 "nbformat_minor": 5
}
